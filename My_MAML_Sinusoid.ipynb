{
 "cells": [
  {
   "cell_type": "code",
   "execution_count": 207,
   "id": "075955b5",
   "metadata": {},
   "outputs": [],
   "source": [
    "import torch\n",
    "import numpy as np\n",
    "import matplotlib.pyplot as plt\n",
    "from IPython import display\n",
    "import torch.nn as nn\n",
    "import torch.nn.functional as F\n",
    "import torch.optim as optim\n",
    "from torchvision import datasets, transforms\n",
    "import matplotlib.pyplot as plt\n",
    "from tqdm import tqdm"
   ]
  },
  {
   "cell_type": "code",
   "execution_count": 208,
   "id": "2f00f5ec",
   "metadata": {},
   "outputs": [],
   "source": [
    "assert torch.cuda.is_available(), \"GPU is not enabled\"\n",
    "\n",
    "# use gpu if available\n",
    "device = torch.device(\"cuda:0\" if torch.cuda.is_available() else \"cpu\")"
   ]
  },
  {
   "cell_type": "markdown",
   "id": "270ee3d6",
   "metadata": {},
   "source": [
    "First of all, we will define our regressor:"
   ]
  },
  {
   "cell_type": "code",
   "execution_count": 209,
   "id": "2c7ede64",
   "metadata": {},
   "outputs": [],
   "source": [
    "class Regressor(nn.Module):\n",
    "    def __init__(self, inputs, outputs):\n",
    "        super(Regressor, self).__init__()\n",
    "        self.inputs = inputs\n",
    "        self.outputs = outputs\n",
    "        \n",
    "        self.fc1 = nn.Linear(inputs, 8)\n",
    "        self.relu1 = nn.ReLU()\n",
    "        self.fc2 = nn.Linear(8, 128)\n",
    "        self.relu2 = nn.ReLU()\n",
    "        self.fc3 = nn.Linear(128, 256)\n",
    "        self.relu3 = nn.ReLU() \n",
    "        self.fc4 = nn.Linear(256, 64)\n",
    "        self.relu4 = nn.ReLU() \n",
    "        self.fc5 = nn.Linear(64, outputs)\n",
    "\n",
    "    def forward(self, x):\n",
    "        out = self.fc1(x)\n",
    "        out = self.relu1(out)\n",
    "        out = self.fc2(out)\n",
    "        out = self.relu2(out)\n",
    "        out = self.fc3(out)\n",
    "        out = self.relu3(out)\n",
    "        out = self.fc4(out)\n",
    "        out = self.relu4(out)\n",
    "        out = self.fc5(out)\n",
    "        return out\n",
    "    \n",
    "    def argforward(self, x, weights):\n",
    "        x = F.linear(x, weights[0], weights[1])\n",
    "        x = F.relu(x)\n",
    "        x = F.linear(x, weights[2], weights[3])\n",
    "        x = F.relu(x)\n",
    "        x = F.linear(x, weights[4], weights[5])\n",
    "        x = F.relu(x)\n",
    "        x = F.linear(x, weights[6], weights[7])\n",
    "        x = F.relu(x)\n",
    "        x = F.linear(x, weights[8], weights[9])\n",
    "        return x"
   ]
  },
  {
   "cell_type": "markdown",
   "id": "def834be",
   "metadata": {},
   "source": [
    "Now, we will define the functions that creates our artificial dataset. These functions will generate k samples from N different sinusoids. This problem will be known as K-shot regression, using N different tasks."
   ]
  },
  {
   "cell_type": "code",
   "execution_count": 210,
   "id": "92b0c67f",
   "metadata": {},
   "outputs": [],
   "source": [
    "def generate_data(n_samples, generator, regression=True, noise_scale=2, want_plot = False, **kwargs):\n",
    "\n",
    "    x_train, y_train = generator(n_samples, **kwargs, train=True) # training data\n",
    "\n",
    "    if \"noise\" in kwargs:\n",
    "        kwargs[\"noise\"] *= noise_scale\n",
    "    \n",
    "    x_val, y_val = generator(n_samples, **kwargs, train=True)\n",
    "\n",
    "    # Plot the data\n",
    "    if want_plot:\n",
    "        fig, ax = plt.subplots(1, 2)\n",
    "        ax[0].set_title(\"Training Data\") \n",
    "        ax[1].set_title(\"Validation Data\")\n",
    "\n",
    "        if regression:\n",
    "            ax[0].scatter(x_train, y_train, cmap=plt.cm.coolwarm)\n",
    "            ax[1].scatter(x_val, y_val, cmap=plt.cm.coolwarm)\n",
    "        else:\n",
    "            ax[0].scatter(x_train[:, 0], x_train[:, 1], c=y_train, cmap=plt.cm.coolwarm)\n",
    "            ax[1].scatter(x_val[:, 0], x_val[:, 1], c=y_val, cmap=plt.cm.coolwarm)\n",
    "\n",
    "    return x_train, y_train, x_val, y_val\n",
    "\n",
    "\n",
    "def generate_sinusoid(n_samples, amp, phase, train=True):\n",
    "    if train:\n",
    "        x = np.random.randint(-5., 5., n_samples)\n",
    "    else:\n",
    "        x = np.linspace(-5., 5., 200)\n",
    "    y = amp*np.sin(x-phase)\n",
    "    \n",
    "    return x, y\n",
    "\n",
    "\n",
    "def task_generator(num_tasks, k, want_plot = False):\n",
    "    amp = np.linspace(0.1, 5., num_tasks)\n",
    "    phase = np.linspace(0., np.pi, num_tasks)\n",
    "    tasks = []\n",
    "    for i in range(num_tasks):\n",
    "        tasks.append(generate_data(k, generate_sinusoid, amp=amp[i], phase=phase[i], want_plot=want_plot))\n",
    "    return tasks, {\"amp\": amp, \"phase\": phase}"
   ]
  },
  {
   "cell_type": "markdown",
   "id": "3bb73d40",
   "metadata": {},
   "source": [
    "We will make an example using 1000 different tasks, and taking only one sample from each task:"
   ]
  },
  {
   "cell_type": "code",
   "execution_count": 211,
   "id": "2234fdbc",
   "metadata": {},
   "outputs": [],
   "source": [
    "tasks, dat = task_generator(1000, 1)"
   ]
  },
  {
   "cell_type": "markdown",
   "id": "b86a4154",
   "metadata": {},
   "source": [
    "Let's define the inner loop and the outer loop from the training phase:"
   ]
  },
  {
   "cell_type": "code",
   "execution_count": 212,
   "id": "de96df8a",
   "metadata": {},
   "outputs": [],
   "source": [
    "def inner_loop(weights, model, x_train, y_train, x_val, y_val, criterion, lr):\n",
    "    temp_weights = [w.clone() for w in weights]\n",
    "    x_train = x_train.reshape((x_train.shape[0], 1))\n",
    "    y_train = y_train.reshape((y_train.shape[0], 1))\n",
    "    x_val = x_val.reshape((x_val.shape[0], 1))\n",
    "    y_val = y_val.reshape((y_val.shape[0], 1))\n",
    "    output = model.argforward(x_train, temp_weights)\n",
    "    loss = criterion(output, y_train)/5\n",
    "    grads = torch.autograd.grad(loss, temp_weights)\n",
    "    temp_weights = [w-lr*g for w, g in zip(temp_weights, grads)]\n",
    "    output = model.argforward(x_val, temp_weights)\n",
    "    meta_loss = criterion(output, y_val)/5\n",
    "    return meta_loss\n",
    "\n",
    "def outter_loop(weights, tasks, epochs, model, criterion, meta_optimizer, lr):\n",
    "    total_loss = 0\n",
    "    for epoch in tqdm(range(epochs)):\n",
    "        meta_loss_sum = 0\n",
    "        for i in range(len(tasks)-1):\n",
    "            x_train = torch.from_numpy(tasks[i][0]).float().to(device)\n",
    "            y_train = torch.from_numpy(tasks[i][1]).float().to(device)\n",
    "            x_val = torch.from_numpy(tasks[i][2]).float().to(device)\n",
    "            y_val = torch.from_numpy(tasks[i][3]).float().to(device)\n",
    "            \n",
    "            meta_loss = inner_loop(weights, model, x_train, y_train, x_val, y_val, criterion, lr)\n",
    "            meta_loss_sum += meta_loss\n",
    "        meta_grads = torch.autograd.grad(meta_loss_sum, weights)\n",
    "        \n",
    "        for w, g in zip(weights, meta_grads):\n",
    "            w.grad = g\n",
    "        meta_optimizer.step()\n",
    "        total_loss += meta_loss_sum.item()/16\n",
    "        \n",
    "    return weights"
   ]
  },
  {
   "cell_type": "markdown",
   "id": "d4a16708",
   "metadata": {},
   "source": [
    "Finally, let's create our model and train it:"
   ]
  },
  {
   "cell_type": "code",
   "execution_count": 213,
   "id": "84f677ef",
   "metadata": {
    "scrolled": true
   },
   "outputs": [],
   "source": [
    "model = Regressor(1, 1).to(device)"
   ]
  },
  {
   "cell_type": "code",
   "execution_count": 214,
   "id": "c5a50f6e",
   "metadata": {},
   "outputs": [
    {
     "name": "stderr",
     "output_type": "stream",
     "text": [
      "100%|█████████████████████████████████████████| 100/100 [02:49<00:00,  1.70s/it]\n"
     ]
    }
   ],
   "source": [
    "epochs = 100\n",
    "criterion = nn.MSELoss()\n",
    "inner_lr = 0.001\n",
    "outter_lr = 0.01\n",
    "meta_optimizer = torch.optim.Adam(model.parameters(), outter_lr)\n",
    "\n",
    "weights = outter_loop(list(model.parameters()), tasks, epochs, model, criterion, meta_optimizer, inner_lr)\n",
    "\n"
   ]
  },
  {
   "cell_type": "markdown",
   "id": "c80c5bae",
   "metadata": {},
   "source": [
    "To check the effectiveness of the model, we define two functions that will train and test our model in a new task. We'll be able to compare the effectiveness of the model in when it's trained in a different number of epochs."
   ]
  },
  {
   "cell_type": "code",
   "execution_count": 215,
   "id": "a2a8fea7",
   "metadata": {},
   "outputs": [],
   "source": [
    "def train(model, x_train, y_train, x_val, y_val, epochs, criterion, optimizer, learning_rate):\n",
    "    losses = {\"train\": [], \"val\": []} # Two lists to keep track of the evolution of our losses\n",
    "\n",
    "    for t in range(epochs):\n",
    "        \n",
    "        # activate training mode\n",
    "        model.train()\n",
    "        \n",
    "        # Feed forward to get the logits        \n",
    "        y_pred = model(x_train) # x_train is the whole batch, so we are doing batch gradient descent\n",
    "        \n",
    "        \n",
    "    \n",
    "        # Compute the loss\n",
    "        loss = criterion(y_pred.squeeze(), y_train.squeeze())\n",
    "        \n",
    "        # zero the gradients before running the backward pass\n",
    "        optimizer.zero_grad()\n",
    "        \n",
    "        # Backward pass to compute the gradient of loss w.r.t our learnable params\n",
    "        loss.backward()\n",
    "\n",
    "        # Update params\n",
    "        optimizer.step()\n",
    "\n",
    "        # Compute the accuracy.\n",
    "        losses[\"train\"].append(loss.cpu().detach().numpy())\n",
    "        \n",
    "        model.eval()\n",
    "        with torch.no_grad():\n",
    "            y_pred = model(x_val)\n",
    "            val_loss = criterion(y_pred.squeeze(), y_val.squeeze())\n",
    "            losses[\"val\"].append(val_loss.cpu().detach().numpy())\n",
    "            \n",
    "    \n",
    "\n",
    "def test(model, x_train, y_train, x_val, y_val, dat):\n",
    "    \n",
    "    original_weights = model.state_dict()\n",
    "    \n",
    "    learning_rate = 0.1\n",
    "    \n",
    "    x = np.linspace(-5, 5, 600)\n",
    "    plt.scatter(x, dat['amp'][-1]*np.sin(x-dat['phase'][-1]), label='Original curve')\n",
    "    plt.scatter(x_val.cpu().detach().numpy(), y_val.cpu().detach().numpy(), label='Samples provided')\n",
    "    model.eval()\n",
    "    new_x = torch.from_numpy(x).float().to(device)\n",
    "    predicted = model(new_x.reshape((new_x.shape[0], 1))).cpu().detach().numpy()\n",
    "    plt.plot(x, predicted, label='Result without trainning')\n",
    "    \n",
    "    epochs = 1\n",
    "    model.train()\n",
    "    criterion = nn.MSELoss()\n",
    "    optimizer = torch.optim.Adam(model.parameters())\n",
    "    losses = train(model, x_train, y_train, x_val, y_val, epochs, criterion, optimizer, learning_rate)\n",
    "    \n",
    "    model.eval()\n",
    "    predicted = model(new_x.reshape((new_x.shape[0], 1))).cpu().detach().numpy()\n",
    "    plt.plot(x, predicted, label='Result with 1 trainning step')\n",
    "    \n",
    "    model.train()\n",
    "    model.load_state_dict(original_weights)\n",
    "    epochs = 5\n",
    "    criterion = nn.MSELoss()\n",
    "    optimizer = torch.optim.Adam(model.parameters())\n",
    "    losses = train(model, x_train, y_train, x_val, y_val, epochs, criterion, optimizer, learning_rate)\n",
    "    \n",
    "    model.eval()\n",
    "    predicted = model(new_x.reshape((new_x.shape[0], 1))).cpu().detach().numpy()\n",
    "    plt.plot(x, predicted, label='Result with 5 trainning step')\n",
    "    \n",
    "    model.train()\n",
    "    model.load_state_dict(original_weights)\n",
    "    epochs = 15\n",
    "    criterion = nn.MSELoss()\n",
    "    optimizer = torch.optim.Adam(model.parameters())\n",
    "    losses = train(model, x_train, y_train, x_val, y_val, epochs, criterion, optimizer, learning_rate)\n",
    "    \n",
    "    model.eval()\n",
    "    predicted = model(new_x.reshape((new_x.shape[0], 1))).cpu().detach().numpy()\n",
    "    plt.plot(x, predicted, label='Result with 15 trainning step')\n",
    "    \n",
    "    model.train()\n",
    "    model.load_state_dict(original_weights)\n",
    "    epochs = 30\n",
    "    criterion = nn.MSELoss()\n",
    "    optimizer = torch.optim.Adam(model.parameters())\n",
    "    losses = train(model, x_train, y_train, x_val, y_val, epochs, criterion, optimizer, learning_rate)\n",
    "    \n",
    "    model.eval()\n",
    "    predicted = model(new_x.reshape((new_x.shape[0], 1))).cpu().detach().numpy()\n",
    "    plt.plot(x, predicted, label='Result with 30 trainning step')\n",
    "    \n",
    "    plt.legend()"
   ]
  },
  {
   "cell_type": "code",
   "execution_count": 216,
   "id": "29698e43",
   "metadata": {},
   "outputs": [
    {
     "data": {
      "image/png": "[encoded data removed]",
      "text/plain": [
       "<Figure size 432x288 with 1 Axes>"
      ]
     },
     "metadata": {
      "needs_background": "light"
     },
     "output_type": "display_data"
    }
   ],
   "source": [
    "x_train = torch.from_numpy(tasks[-1][0]).float().to(device)\n",
    "y_train = torch.from_numpy(tasks[-1][1]).float().to(device)\n",
    "x_val = torch.from_numpy(tasks[-1][2]).float().to(device)\n",
    "y_val = torch.from_numpy(tasks[-1][3]).float().to(device)\n",
    "\n",
    "x_train = x_train.reshape((x_train.shape[0], 1))\n",
    "y_train = y_train.reshape((y_train.shape[0], 1))\n",
    "x_val = x_val.reshape((x_val.shape[0], 1))\n",
    "y_val = y_val.reshape((y_val.shape[0], 1))\n",
    "\n",
    "test(model, x_train, y_train, x_val, y_val, dat)"
   ]
  },
  {
   "cell_type": "markdown",
   "id": "b9d87a9e",
   "metadata": {},
   "source": [
    "Finally, we can compare the results obtained above with the performance of a regular trained model that faces the same problem as our Meta-Learned model. As we can see, these second model is not able to mimic the behaviour of the sinusoid."
   ]
  },
  {
   "cell_type": "code",
   "execution_count": 217,
   "id": "5f3c08c4",
   "metadata": {},
   "outputs": [
    {
     "data": {
      "image/png": "[encoded data removed]",
      "text/plain": [
       "<Figure size 432x288 with 1 Axes>"
      ]
     },
     "metadata": {
      "needs_background": "light"
     },
     "output_type": "display_data"
    }
   ],
   "source": [
    "x_train = torch.from_numpy(tasks[-1][0]).float().to(device)\n",
    "y_train = torch.from_numpy(tasks[-1][1]).float().to(device)\n",
    "x_val = torch.from_numpy(tasks[-1][2]).float().to(device)\n",
    "y_val = torch.from_numpy(tasks[-1][3]).float().to(device)\n",
    "\n",
    "x_train = x_train.reshape((x_train.shape[0], 1))\n",
    "y_train = y_train.reshape((y_train.shape[0], 1))\n",
    "x_val = x_val.reshape((x_val.shape[0], 1))\n",
    "y_val = y_val.reshape((y_val.shape[0], 1))\n",
    "\n",
    "model_regular_trainning = Regressor(1, 1).to(device)\n",
    "test(model_regular_trainning, x_train, y_train, x_val, y_val, dat)"
   ]
  }
 ],
 "metadata": {
  "kernelspec": {
   "display_name": "Python 3 (ipykernel)",
   "language": "python",
   "name": "python3"
  },
  "language_info": {
   "codemirror_mode": {
    "name": "ipython",
    "version": 3
   },
   "file_extension": ".py",
   "mimetype": "text/x-python",
   "name": "python",
   "nbconvert_exporter": "python",
   "pygments_lexer": "ipython3",
   "version": "3.9.7"
  }
 },
 "nbformat": 4,
 "nbformat_minor": 5
}
